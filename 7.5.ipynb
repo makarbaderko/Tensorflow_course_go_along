{
 "cells": [
  {
   "cell_type": "markdown",
   "metadata": {},
   "source": [
    "<a href=\"https://www.pieriandata.com\"><img src=\"../Pierian_Data_Logo.PNG\"></a>\n",
    "<strong><center>Copyright by Pierian Data Inc.</center></strong> \n",
    "<strong><center>Created by Jose Marcial Portilla.</center></strong>"
   ]
  },
  {
   "cell_type": "markdown",
   "metadata": {},
   "source": [
    "# Tensorboard\n",
    "\n",
    "---\n",
    "---\n",
    "\n",
    "**NOTE: You must watch the corresponding video to understand this lecture. This notebook can't serve as a full guide. Please watch the video BEFORE posting questions to the QA forum.**\n",
    "\n",
    "---\n",
    "---\n",
    "\n",
    "Let's explore the built in data visualization capabilities that come with Tensorboard.\n",
    "\n",
    "Full official tutorial available here: https://www.tensorflow.org/tensorboard/get_started\n",
    "\n",
    "## Data"
   ]
  },
  {
   "cell_type": "code",
   "execution_count": 1,
   "metadata": {},
   "outputs": [],
   "source": [
    "import pandas as pd\n",
    "import numpy as np"
   ]
  },
  {
   "cell_type": "code",
   "execution_count": 2,
   "metadata": {},
   "outputs": [],
   "source": [
    "df = pd.read_csv('../DATA/cancer_classification.csv')"
   ]
  },
  {
   "cell_type": "markdown",
   "metadata": {},
   "source": [
    "### Train Test Split"
   ]
  },
  {
   "cell_type": "code",
   "execution_count": 3,
   "metadata": {},
   "outputs": [],
   "source": [
    "X = df.drop('benign_0__mal_1',axis=1).values\n",
    "y = df['benign_0__mal_1'].values"
   ]
  },
  {
   "cell_type": "code",
   "execution_count": 4,
   "metadata": {},
   "outputs": [],
   "source": [
    "from sklearn.model_selection import train_test_split"
   ]
  },
  {
   "cell_type": "code",
   "execution_count": 5,
   "metadata": {},
   "outputs": [],
   "source": [
    "X_train, X_test, y_train, y_test = train_test_split(X,y,test_size=0.25,random_state=101)"
   ]
  },
  {
   "cell_type": "markdown",
   "metadata": {},
   "source": [
    "\n",
    "### Scaling Data"
   ]
  },
  {
   "cell_type": "code",
   "execution_count": 6,
   "metadata": {},
   "outputs": [],
   "source": [
    "from sklearn.preprocessing import MinMaxScaler"
   ]
  },
  {
   "cell_type": "code",
   "execution_count": 7,
   "metadata": {},
   "outputs": [],
   "source": [
    "scaler = MinMaxScaler()"
   ]
  },
  {
   "cell_type": "code",
   "execution_count": 8,
   "metadata": {},
   "outputs": [
    {
     "data": {
      "text/plain": [
       "MinMaxScaler()"
      ]
     },
     "execution_count": 8,
     "metadata": {},
     "output_type": "execute_result"
    }
   ],
   "source": [
    "scaler.fit(X_train)"
   ]
  },
  {
   "cell_type": "code",
   "execution_count": 9,
   "metadata": {},
   "outputs": [],
   "source": [
    "X_train = scaler.transform(X_train)\n",
    "X_test = scaler.transform(X_test)"
   ]
  },
  {
   "cell_type": "markdown",
   "metadata": {},
   "source": [
    "## Creating the Model"
   ]
  },
  {
   "cell_type": "code",
   "execution_count": 10,
   "metadata": {},
   "outputs": [],
   "source": [
    "import tensorflow as tf\n",
    "from tensorflow.keras.models import Sequential\n",
    "from tensorflow.keras.layers import Dense, Activation,Dropout"
   ]
  },
  {
   "cell_type": "code",
   "execution_count": 11,
   "metadata": {},
   "outputs": [],
   "source": [
    "from tensorflow.keras.callbacks import EarlyStopping,TensorBoard"
   ]
  },
  {
   "cell_type": "code",
   "execution_count": 12,
   "metadata": {},
   "outputs": [],
   "source": [
    "early_stop = EarlyStopping(monitor='val_loss', mode='min', verbose=1, patience=25)"
   ]
  },
  {
   "cell_type": "code",
   "execution_count": 13,
   "metadata": {},
   "outputs": [
    {
     "data": {
      "text/plain": [
       "'/Users/makarbaderko/Documents/Programming/Udemy/Keras&Tensorflow/self'"
      ]
     },
     "execution_count": 13,
     "metadata": {},
     "output_type": "execute_result"
    }
   ],
   "source": [
    "pwd"
   ]
  },
  {
   "cell_type": "markdown",
   "metadata": {},
   "source": [
    "## Creating the Tensorboard Callback\n",
    "\n",
    "TensorBoard is a visualization tool provided with TensorFlow.\n",
    "\n",
    "This callback logs events for TensorBoard, including:\n",
    "* Metrics summary plots\n",
    "* Training graph visualization\n",
    "* Activation histograms\n",
    "* Sampled profiling\n",
    "\n",
    "If you have installed TensorFlow with pip, you should be able\n",
    "to launch TensorBoard from the command line:\n",
    "\n",
    "```sh\n",
    "tensorboard --logdir=path_to_your_logs\n",
    "```\n",
    "\n",
    "You can find more information about TensorBoard\n",
    "[here](https://www.tensorflow.org/tensorboard/).\n",
    "\n",
    "    Arguments:\n",
    "        log_dir: the path of the directory where to save the log files to be\n",
    "          parsed by TensorBoard.\n",
    "        histogram_freq: frequency (in epochs) at which to compute activation and\n",
    "          weight histograms for the layers of the model. If set to 0, histograms\n",
    "          won't be computed. Validation data (or split) must be specified for\n",
    "          histogram visualizations.\n",
    "        write_graph: whether to visualize the graph in TensorBoard. The log file\n",
    "          can become quite large when write_graph is set to True.\n",
    "        write_images: whether to write model weights to visualize as image in\n",
    "          TensorBoard.\n",
    "        update_freq: `'batch'` or `'epoch'` or integer. When using `'batch'`,\n",
    "          writes the losses and metrics to TensorBoard after each batch. The same\n",
    "          applies for `'epoch'`. If using an integer, let's say `1000`, the\n",
    "          callback will write the metrics and losses to TensorBoard every 1000\n",
    "          samples. Note that writing too frequently to TensorBoard can slow down\n",
    "          your training.\n",
    "        profile_batch: Profile the batch to sample compute characteristics. By\n",
    "          default, it will profile the second batch. Set profile_batch=0 to\n",
    "          disable profiling. Must run in TensorFlow eager mode.\n",
    "        embeddings_freq: frequency (in epochs) at which embedding layers will\n",
    "          be visualized. If set to 0, embeddings won't be visualized.\n",
    "       "
   ]
  },
  {
   "cell_type": "code",
   "execution_count": 14,
   "metadata": {},
   "outputs": [],
   "source": [
    "from datetime import datetime"
   ]
  },
  {
   "cell_type": "code",
   "execution_count": 15,
   "metadata": {},
   "outputs": [
    {
     "data": {
      "text/plain": [
       "'2021-01-10--1243'"
      ]
     },
     "execution_count": 15,
     "metadata": {},
     "output_type": "execute_result"
    }
   ],
   "source": [
    "datetime.now().strftime(\"%Y-%m-%d--%H%M\")"
   ]
  },
  {
   "cell_type": "code",
   "execution_count": 16,
   "metadata": {},
   "outputs": [],
   "source": [
    "# WINDOWS: Use \"logs\\\\fit\"\n",
    "# MACOS/LINUX: Use \"logs\\fit\"\n",
    "\n",
    "log_directory = 'logs'\n",
    "\n",
    "# OPTIONAL: ADD A TIMESTAMP FOR UNIQUE FOLDER\n",
    "# timestamp = datetime.now().strftime(\"%Y-%m-%d--%H%M\")\n",
    "# log_directory = log_directory + '\\\\' + timestamp\n",
    "\n",
    "\n",
    "board = TensorBoard(log_dir=log_directory,histogram_freq=1,\n",
    "    write_graph=True,\n",
    "    write_images=True,\n",
    "    update_freq='epoch',\n",
    "    profile_batch=2,\n",
    "    embeddings_freq=1)"
   ]
  },
  {
   "cell_type": "markdown",
   "metadata": {},
   "source": [
    "Now create the model layers:"
   ]
  },
  {
   "cell_type": "code",
   "execution_count": 17,
   "metadata": {},
   "outputs": [],
   "source": [
    "model = Sequential()\n",
    "model.add(Dense(units=30,activation='relu'))\n",
    "model.add(Dropout(0.5))\n",
    "model.add(Dense(units=15,activation='relu'))\n",
    "model.add(Dropout(0.5))\n",
    "model.add(Dense(units=1,activation='sigmoid'))\n",
    "model.compile(loss='binary_crossentropy', optimizer='adam')"
   ]
  },
  {
   "cell_type": "markdown",
   "metadata": {},
   "source": [
    "## Train the Model"
   ]
  },
  {
   "cell_type": "code",
   "execution_count": 18,
   "metadata": {
    "collapsed": true,
    "jupyter": {
     "outputs_hidden": true
    }
   },
   "outputs": [
    {
     "name": "stdout",
     "output_type": "stream",
     "text": [
      "Epoch 1/600\n",
      "14/14 [==============================] - 1s 43ms/step - loss: 0.6922 - val_loss: 0.6796\n",
      "Epoch 2/600\n",
      "14/14 [==============================] - 0s 4ms/step - loss: 0.6812 - val_loss: 0.6674\n",
      "Epoch 3/600\n",
      "14/14 [==============================] - 0s 4ms/step - loss: 0.6698 - val_loss: 0.6523\n",
      "Epoch 4/600\n",
      "14/14 [==============================] - 0s 4ms/step - loss: 0.6538 - val_loss: 0.6293\n",
      "Epoch 5/600\n",
      "14/14 [==============================] - 0s 4ms/step - loss: 0.6570 - val_loss: 0.6082\n",
      "Epoch 6/600\n",
      "14/14 [==============================] - 0s 4ms/step - loss: 0.6134 - val_loss: 0.5798\n",
      "Epoch 7/600\n",
      "14/14 [==============================] - 0s 3ms/step - loss: 0.5950 - val_loss: 0.5521\n",
      "Epoch 8/600\n",
      "14/14 [==============================] - 0s 4ms/step - loss: 0.5882 - val_loss: 0.5255\n",
      "Epoch 9/600\n",
      "14/14 [==============================] - 0s 3ms/step - loss: 0.5732 - val_loss: 0.4944\n",
      "Epoch 10/600\n",
      "14/14 [==============================] - 0s 3ms/step - loss: 0.5553 - val_loss: 0.4653\n",
      "Epoch 11/600\n",
      "14/14 [==============================] - 0s 4ms/step - loss: 0.5254 - val_loss: 0.4415\n",
      "Epoch 12/600\n",
      "14/14 [==============================] - 0s 4ms/step - loss: 0.4926 - val_loss: 0.4185\n",
      "Epoch 13/600\n",
      "14/14 [==============================] - 0s 4ms/step - loss: 0.4613 - val_loss: 0.3903\n",
      "Epoch 14/600\n",
      "14/14 [==============================] - 0s 4ms/step - loss: 0.4353 - val_loss: 0.3605\n",
      "Epoch 15/600\n",
      "14/14 [==============================] - 0s 3ms/step - loss: 0.4727 - val_loss: 0.3399\n",
      "Epoch 16/600\n",
      "14/14 [==============================] - 0s 3ms/step - loss: 0.4181 - val_loss: 0.3180\n",
      "Epoch 17/600\n",
      "14/14 [==============================] - 0s 3ms/step - loss: 0.4202 - val_loss: 0.3029\n",
      "Epoch 18/600\n",
      "14/14 [==============================] - 0s 3ms/step - loss: 0.3748 - val_loss: 0.2903\n",
      "Epoch 19/600\n",
      "14/14 [==============================] - 0s 4ms/step - loss: 0.4162 - val_loss: 0.2729\n",
      "Epoch 20/600\n",
      "14/14 [==============================] - 0s 3ms/step - loss: 0.3447 - val_loss: 0.2567\n",
      "Epoch 21/600\n",
      "14/14 [==============================] - 0s 4ms/step - loss: 0.3538 - val_loss: 0.2347\n",
      "Epoch 22/600\n",
      "14/14 [==============================] - 0s 4ms/step - loss: 0.3499 - val_loss: 0.2263\n",
      "Epoch 23/600\n",
      "14/14 [==============================] - 0s 4ms/step - loss: 0.3463 - val_loss: 0.2228\n",
      "Epoch 24/600\n",
      "14/14 [==============================] - 0s 4ms/step - loss: 0.2837 - val_loss: 0.2135\n",
      "Epoch 25/600\n",
      "14/14 [==============================] - 0s 4ms/step - loss: 0.2531 - val_loss: 0.1989\n",
      "Epoch 26/600\n",
      "14/14 [==============================] - 0s 3ms/step - loss: 0.2754 - val_loss: 0.1935\n",
      "Epoch 27/600\n",
      "14/14 [==============================] - 0s 4ms/step - loss: 0.2966 - val_loss: 0.1871\n",
      "Epoch 28/600\n",
      "14/14 [==============================] - 0s 4ms/step - loss: 0.3213 - val_loss: 0.1842\n",
      "Epoch 29/600\n",
      "14/14 [==============================] - 0s 4ms/step - loss: 0.2547 - val_loss: 0.1770\n",
      "Epoch 30/600\n",
      "14/14 [==============================] - 0s 4ms/step - loss: 0.2434 - val_loss: 0.1697\n",
      "Epoch 31/600\n",
      "14/14 [==============================] - 0s 4ms/step - loss: 0.2570 - val_loss: 0.1713\n",
      "Epoch 32/600\n",
      "14/14 [==============================] - 0s 4ms/step - loss: 0.3152 - val_loss: 0.1730\n",
      "Epoch 33/600\n",
      "14/14 [==============================] - 0s 6ms/step - loss: 0.2646 - val_loss: 0.1660\n",
      "Epoch 34/600\n",
      "14/14 [==============================] - 0s 4ms/step - loss: 0.2515 - val_loss: 0.1606\n",
      "Epoch 35/600\n",
      "14/14 [==============================] - 0s 5ms/step - loss: 0.2372 - val_loss: 0.1574\n",
      "Epoch 36/600\n",
      "14/14 [==============================] - 0s 4ms/step - loss: 0.2392 - val_loss: 0.1614\n",
      "Epoch 37/600\n",
      "14/14 [==============================] - 0s 4ms/step - loss: 0.2519 - val_loss: 0.1564\n",
      "Epoch 38/600\n",
      "14/14 [==============================] - 0s 4ms/step - loss: 0.2157 - val_loss: 0.1534\n",
      "Epoch 39/600\n",
      "14/14 [==============================] - 0s 3ms/step - loss: 0.2383 - val_loss: 0.1436\n",
      "Epoch 40/600\n",
      "14/14 [==============================] - 0s 4ms/step - loss: 0.1880 - val_loss: 0.1388\n",
      "Epoch 41/600\n",
      "14/14 [==============================] - 0s 4ms/step - loss: 0.1813 - val_loss: 0.1338\n",
      "Epoch 42/600\n",
      "14/14 [==============================] - 0s 4ms/step - loss: 0.2081 - val_loss: 0.1358\n",
      "Epoch 43/600\n",
      "14/14 [==============================] - 0s 4ms/step - loss: 0.1733 - val_loss: 0.1260\n",
      "Epoch 44/600\n",
      "14/14 [==============================] - 0s 3ms/step - loss: 0.2105 - val_loss: 0.1284\n",
      "Epoch 45/600\n",
      "14/14 [==============================] - 0s 3ms/step - loss: 0.1918 - val_loss: 0.1234\n",
      "Epoch 46/600\n",
      "14/14 [==============================] - 0s 4ms/step - loss: 0.1915 - val_loss: 0.1261\n",
      "Epoch 47/600\n",
      "14/14 [==============================] - 0s 3ms/step - loss: 0.2021 - val_loss: 0.1352\n",
      "Epoch 48/600\n",
      "14/14 [==============================] - 0s 3ms/step - loss: 0.1697 - val_loss: 0.1274\n",
      "Epoch 49/600\n",
      "14/14 [==============================] - 0s 3ms/step - loss: 0.1527 - val_loss: 0.1267\n",
      "Epoch 50/600\n",
      "14/14 [==============================] - 0s 6ms/step - loss: 0.1762 - val_loss: 0.1185\n",
      "Epoch 51/600\n",
      "14/14 [==============================] - 0s 4ms/step - loss: 0.1708 - val_loss: 0.1181\n",
      "Epoch 52/600\n",
      "14/14 [==============================] - 0s 4ms/step - loss: 0.1762 - val_loss: 0.1214\n",
      "Epoch 53/600\n",
      "14/14 [==============================] - 0s 4ms/step - loss: 0.1764 - val_loss: 0.1205\n",
      "Epoch 54/600\n",
      "14/14 [==============================] - 0s 4ms/step - loss: 0.1480 - val_loss: 0.1150\n",
      "Epoch 55/600\n",
      "14/14 [==============================] - 0s 4ms/step - loss: 0.1416 - val_loss: 0.1174\n",
      "Epoch 56/600\n",
      "14/14 [==============================] - 0s 4ms/step - loss: 0.1543 - val_loss: 0.1144\n",
      "Epoch 57/600\n",
      "14/14 [==============================] - 0s 4ms/step - loss: 0.1549 - val_loss: 0.1132\n",
      "Epoch 58/600\n",
      "14/14 [==============================] - 0s 4ms/step - loss: 0.1499 - val_loss: 0.1175\n",
      "Epoch 59/600\n",
      "14/14 [==============================] - 0s 4ms/step - loss: 0.1316 - val_loss: 0.1143\n",
      "Epoch 60/600\n",
      "14/14 [==============================] - 0s 4ms/step - loss: 0.1201 - val_loss: 0.1071\n",
      "Epoch 61/600\n",
      "14/14 [==============================] - 0s 4ms/step - loss: 0.1717 - val_loss: 0.1206\n",
      "Epoch 62/600\n",
      "14/14 [==============================] - 0s 3ms/step - loss: 0.1810 - val_loss: 0.1099\n",
      "Epoch 63/600\n",
      "14/14 [==============================] - 0s 4ms/step - loss: 0.1654 - val_loss: 0.1112\n",
      "Epoch 64/600\n",
      "14/14 [==============================] - 0s 3ms/step - loss: 0.1561 - val_loss: 0.1081\n",
      "Epoch 65/600\n",
      "14/14 [==============================] - 0s 4ms/step - loss: 0.1681 - val_loss: 0.1036\n",
      "Epoch 66/600\n",
      "14/14 [==============================] - 0s 4ms/step - loss: 0.1602 - val_loss: 0.1156\n",
      "Epoch 67/600\n",
      "14/14 [==============================] - 0s 3ms/step - loss: 0.1485 - val_loss: 0.1082\n",
      "Epoch 68/600\n",
      "14/14 [==============================] - 0s 4ms/step - loss: 0.1299 - val_loss: 0.1048\n",
      "Epoch 69/600\n",
      "14/14 [==============================] - 0s 3ms/step - loss: 0.1565 - val_loss: 0.1098\n",
      "Epoch 70/600\n",
      "14/14 [==============================] - 0s 4ms/step - loss: 0.1388 - val_loss: 0.1068\n",
      "Epoch 71/600\n",
      "14/14 [==============================] - 0s 4ms/step - loss: 0.1294 - val_loss: 0.1108\n",
      "Epoch 72/600\n",
      "14/14 [==============================] - 0s 4ms/step - loss: 0.1512 - val_loss: 0.1035\n",
      "Epoch 73/600\n",
      "14/14 [==============================] - 0s 4ms/step - loss: 0.1404 - val_loss: 0.1058\n",
      "Epoch 74/600\n",
      "14/14 [==============================] - 0s 4ms/step - loss: 0.1162 - val_loss: 0.1058\n",
      "Epoch 75/600\n",
      "14/14 [==============================] - 0s 4ms/step - loss: 0.1303 - val_loss: 0.1069\n",
      "Epoch 76/600\n",
      "14/14 [==============================] - 0s 4ms/step - loss: 0.1143 - val_loss: 0.1152\n",
      "Epoch 77/600\n",
      "14/14 [==============================] - 0s 4ms/step - loss: 0.1472 - val_loss: 0.1005\n",
      "Epoch 78/600\n",
      "14/14 [==============================] - 0s 4ms/step - loss: 0.1119 - val_loss: 0.1021\n",
      "Epoch 79/600\n",
      "14/14 [==============================] - 0s 4ms/step - loss: 0.1077 - val_loss: 0.1070\n",
      "Epoch 80/600\n",
      "14/14 [==============================] - 0s 4ms/step - loss: 0.1140 - val_loss: 0.1035\n",
      "Epoch 81/600\n",
      "14/14 [==============================] - 0s 4ms/step - loss: 0.1362 - val_loss: 0.1026\n",
      "Epoch 82/600\n",
      "14/14 [==============================] - 0s 3ms/step - loss: 0.1516 - val_loss: 0.0967\n",
      "Epoch 83/600\n",
      "14/14 [==============================] - 0s 4ms/step - loss: 0.1510 - val_loss: 0.0972\n",
      "Epoch 84/600\n",
      "14/14 [==============================] - 0s 4ms/step - loss: 0.1007 - val_loss: 0.1029\n",
      "Epoch 85/600\n",
      "14/14 [==============================] - 0s 4ms/step - loss: 0.1346 - val_loss: 0.1075\n",
      "Epoch 86/600\n",
      "14/14 [==============================] - 0s 4ms/step - loss: 0.1085 - val_loss: 0.0959\n",
      "Epoch 87/600\n",
      "14/14 [==============================] - 0s 4ms/step - loss: 0.1345 - val_loss: 0.1021\n",
      "Epoch 88/600\n",
      "14/14 [==============================] - 0s 4ms/step - loss: 0.1179 - val_loss: 0.1005\n",
      "Epoch 89/600\n",
      "14/14 [==============================] - 0s 3ms/step - loss: 0.1078 - val_loss: 0.1015\n",
      "Epoch 90/600\n",
      "14/14 [==============================] - 0s 4ms/step - loss: 0.1417 - val_loss: 0.0979\n",
      "Epoch 91/600\n",
      "14/14 [==============================] - 0s 3ms/step - loss: 0.1002 - val_loss: 0.0993\n",
      "Epoch 92/600\n",
      "14/14 [==============================] - 0s 3ms/step - loss: 0.0965 - val_loss: 0.1153\n",
      "Epoch 93/600\n",
      "14/14 [==============================] - 0s 3ms/step - loss: 0.1030 - val_loss: 0.1029\n",
      "Epoch 94/600\n",
      "14/14 [==============================] - 0s 3ms/step - loss: 0.0968 - val_loss: 0.0975\n",
      "Epoch 95/600\n",
      "14/14 [==============================] - 0s 3ms/step - loss: 0.1034 - val_loss: 0.0947\n",
      "Epoch 96/600\n",
      "14/14 [==============================] - 0s 3ms/step - loss: 0.1299 - val_loss: 0.1019\n",
      "Epoch 97/600\n",
      "14/14 [==============================] - 0s 4ms/step - loss: 0.1174 - val_loss: 0.0985\n",
      "Epoch 98/600\n",
      "14/14 [==============================] - 0s 3ms/step - loss: 0.1068 - val_loss: 0.1028\n",
      "Epoch 99/600\n",
      "14/14 [==============================] - 0s 3ms/step - loss: 0.1420 - val_loss: 0.0980\n",
      "Epoch 100/600\n",
      "14/14 [==============================] - 0s 3ms/step - loss: 0.1324 - val_loss: 0.0948\n",
      "Epoch 101/600\n",
      "14/14 [==============================] - 0s 3ms/step - loss: 0.1136 - val_loss: 0.1045\n",
      "Epoch 102/600\n",
      "14/14 [==============================] - 0s 4ms/step - loss: 0.0877 - val_loss: 0.0979\n",
      "Epoch 103/600\n",
      "14/14 [==============================] - 0s 4ms/step - loss: 0.1423 - val_loss: 0.1020\n",
      "Epoch 104/600\n",
      "14/14 [==============================] - 0s 4ms/step - loss: 0.1228 - val_loss: 0.0951\n",
      "Epoch 105/600\n",
      "14/14 [==============================] - 0s 4ms/step - loss: 0.1057 - val_loss: 0.0983\n",
      "Epoch 106/600\n",
      "14/14 [==============================] - 0s 4ms/step - loss: 0.1421 - val_loss: 0.0992\n",
      "Epoch 107/600\n",
      "14/14 [==============================] - 0s 3ms/step - loss: 0.1566 - val_loss: 0.1000\n",
      "Epoch 108/600\n",
      "14/14 [==============================] - 0s 4ms/step - loss: 0.0832 - val_loss: 0.0985\n",
      "Epoch 109/600\n",
      "14/14 [==============================] - 0s 4ms/step - loss: 0.1316 - val_loss: 0.0947\n",
      "Epoch 110/600\n",
      "14/14 [==============================] - 0s 3ms/step - loss: 0.0805 - val_loss: 0.0985\n",
      "Epoch 111/600\n",
      "14/14 [==============================] - 0s 4ms/step - loss: 0.0968 - val_loss: 0.1081\n",
      "Epoch 112/600\n",
      "14/14 [==============================] - 0s 3ms/step - loss: 0.1041 - val_loss: 0.0926\n",
      "Epoch 113/600\n",
      "14/14 [==============================] - 0s 3ms/step - loss: 0.0982 - val_loss: 0.0976\n",
      "Epoch 114/600\n",
      "14/14 [==============================] - 0s 4ms/step - loss: 0.0739 - val_loss: 0.0915\n",
      "Epoch 115/600\n",
      "14/14 [==============================] - 0s 4ms/step - loss: 0.0978 - val_loss: 0.0946\n",
      "Epoch 116/600\n",
      "14/14 [==============================] - 0s 3ms/step - loss: 0.0720 - val_loss: 0.1032\n",
      "Epoch 117/600\n",
      "14/14 [==============================] - 0s 4ms/step - loss: 0.1012 - val_loss: 0.0934\n",
      "Epoch 118/600\n",
      "14/14 [==============================] - 0s 4ms/step - loss: 0.0955 - val_loss: 0.0935\n",
      "Epoch 119/600\n",
      "14/14 [==============================] - 0s 4ms/step - loss: 0.0860 - val_loss: 0.0980\n",
      "Epoch 120/600\n",
      "14/14 [==============================] - 0s 4ms/step - loss: 0.0903 - val_loss: 0.1086\n",
      "Epoch 121/600\n",
      "14/14 [==============================] - 0s 3ms/step - loss: 0.0676 - val_loss: 0.1028\n",
      "Epoch 122/600\n",
      "14/14 [==============================] - 0s 4ms/step - loss: 0.0651 - val_loss: 0.0996\n",
      "Epoch 123/600\n",
      "14/14 [==============================] - 0s 4ms/step - loss: 0.0871 - val_loss: 0.0989\n",
      "Epoch 124/600\n",
      "14/14 [==============================] - 0s 4ms/step - loss: 0.1012 - val_loss: 0.0974\n",
      "Epoch 125/600\n",
      "14/14 [==============================] - 0s 4ms/step - loss: 0.0976 - val_loss: 0.0970\n",
      "Epoch 126/600\n",
      "14/14 [==============================] - 0s 3ms/step - loss: 0.0705 - val_loss: 0.0975\n",
      "Epoch 127/600\n",
      "14/14 [==============================] - 0s 4ms/step - loss: 0.0985 - val_loss: 0.1011\n",
      "Epoch 128/600\n",
      "14/14 [==============================] - 0s 4ms/step - loss: 0.1105 - val_loss: 0.0957\n",
      "Epoch 129/600\n",
      "14/14 [==============================] - 0s 4ms/step - loss: 0.0911 - val_loss: 0.0939\n",
      "Epoch 130/600\n",
      "14/14 [==============================] - 0s 3ms/step - loss: 0.0846 - val_loss: 0.0964\n",
      "Epoch 131/600\n",
      "14/14 [==============================] - 0s 4ms/step - loss: 0.1025 - val_loss: 0.0973\n",
      "Epoch 132/600\n",
      "14/14 [==============================] - 0s 4ms/step - loss: 0.0767 - val_loss: 0.0950\n",
      "Epoch 133/600\n",
      "14/14 [==============================] - 0s 4ms/step - loss: 0.0734 - val_loss: 0.0993\n",
      "Epoch 134/600\n",
      "14/14 [==============================] - 0s 3ms/step - loss: 0.1041 - val_loss: 0.0943\n",
      "Epoch 135/600\n",
      "14/14 [==============================] - 0s 4ms/step - loss: 0.0940 - val_loss: 0.1033\n",
      "Epoch 136/600\n",
      "14/14 [==============================] - 0s 4ms/step - loss: 0.0689 - val_loss: 0.0965\n",
      "Epoch 137/600\n",
      "14/14 [==============================] - 0s 4ms/step - loss: 0.0854 - val_loss: 0.1024\n",
      "Epoch 138/600\n",
      "14/14 [==============================] - 0s 4ms/step - loss: 0.0965 - val_loss: 0.0996\n",
      "Epoch 139/600\n",
      "14/14 [==============================] - 0s 4ms/step - loss: 0.1062 - val_loss: 0.0988\n",
      "Epoch 00139: early stopping\n"
     ]
    },
    {
     "data": {
      "text/plain": [
       "<tensorflow.python.keras.callbacks.History at 0x7fd081638790>"
      ]
     },
     "execution_count": 18,
     "metadata": {},
     "output_type": "execute_result"
    }
   ],
   "source": [
    "model.fit(x=X_train, \n",
    "          y=y_train, \n",
    "          epochs=600,\n",
    "          validation_data=(X_test, y_test), verbose=1,\n",
    "          callbacks=[early_stop,board]\n",
    "          )"
   ]
  },
  {
   "cell_type": "markdown",
   "metadata": {},
   "source": [
    "# Running Tensorboard\n"
   ]
  },
  {
   "cell_type": "markdown",
   "metadata": {},
   "source": [
    "## Running through the Command Line\n",
    "\n",
    "**Watch video to see how to run Tensorboard through a command line call.**"
   ]
  },
  {
   "cell_type": "markdown",
   "metadata": {},
   "source": [
    "Tensorboard will run locally in your browser at [http://localhost:6006/](http://localhost:6006/)\n"
   ]
  },
  {
   "cell_type": "code",
   "execution_count": 19,
   "metadata": {},
   "outputs": [
    {
     "name": "stdout",
     "output_type": "stream",
     "text": [
      "logs\n"
     ]
    }
   ],
   "source": [
    "print(log_directory)"
   ]
  },
  {
   "cell_type": "code",
   "execution_count": 20,
   "metadata": {},
   "outputs": [
    {
     "data": {
      "text/plain": [
       "'/Users/makarbaderko/Documents/Programming/Udemy/Keras&Tensorflow/self'"
      ]
     },
     "execution_count": 20,
     "metadata": {},
     "output_type": "execute_result"
    }
   ],
   "source": [
    "pwd"
   ]
  },
  {
   "cell_type": "markdown",
   "metadata": {},
   "source": [
    "### Use cd at your command line to change directory to the file path reported back by pwd or your current .py file location.\n",
    "### Then run this code at your command line or terminal"
   ]
  },
  {
   "cell_type": "code",
   "execution_count": null,
   "metadata": {},
   "outputs": [
    {
     "name": "stdout",
     "output_type": "stream",
     "text": [
      "Serving TensorBoard on localhost; to expose to the network, use a proxy or pass --bind_all\n",
      "TensorBoard 2.4.0 at http://localhost:6006/ (Press CTRL+C to quit)\n"
     ]
    }
   ],
   "source": [
    "!tensorboard --logdir logs"
   ]
  },
  {
   "cell_type": "code",
   "execution_count": null,
   "metadata": {},
   "outputs": [],
   "source": []
  }
 ],
 "metadata": {
  "kernelspec": {
   "display_name": "Python 3",
   "language": "python",
   "name": "python3"
  },
  "language_info": {
   "codemirror_mode": {
    "name": "ipython",
    "version": 3
   },
   "file_extension": ".py",
   "mimetype": "text/x-python",
   "name": "python",
   "nbconvert_exporter": "python",
   "pygments_lexer": "ipython3",
   "version": "3.8.3"
  }
 },
 "nbformat": 4,
 "nbformat_minor": 4
}
